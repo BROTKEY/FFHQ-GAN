{
 "cells": [
  {
   "cell_type": "code",
   "execution_count": null,
   "source": [
    "import torch\r\n",
    "import torch.nn as nn\r\n",
    "import matplotlib.pyplot as plt"
   ],
   "outputs": [],
   "metadata": {}
  },
  {
   "cell_type": "code",
   "execution_count": null,
   "source": [
    "class Generator(nn.Module):\r\n",
    "    def __init__(self):\r\n",
    "        super(Generator, self).__init__()\r\n",
    "        self.form = nn.Linear(100,16384)\r\n",
    "        self.seq = nn.Sequential(\r\n",
    "            nn.ConvTranspose2d(1024,512,4,2,1),\r\n",
    "            nn.BatchNorm2d(512),\r\n",
    "            nn.LeakyReLU(),\r\n",
    "            nn.ConvTranspose2d(512,256,4,2,1),\r\n",
    "            nn.BatchNorm2d(256),\r\n",
    "            nn.LeakyReLU(),\r\n",
    "            nn.ConvTranspose2d(256,128,4,2,1),\r\n",
    "            nn.BatchNorm2d(128),\r\n",
    "            nn.LeakyReLU(),\r\n",
    "            nn.ConvTranspose2d(128,64,4,2,1),\r\n",
    "            nn.BatchNorm2d(64),\r\n",
    "            nn.LeakyReLU(),\r\n",
    "            nn.ConvTranspose2d(64,32,4,2,1),\r\n",
    "            nn.BatchNorm2d(32),\r\n",
    "            nn.LeakyReLU(),\r\n",
    "            nn.ConvTranspose2d(32,16,4,2,1),\r\n",
    "            nn.BatchNorm2d(16),\r\n",
    "            nn.LeakyReLU(),\r\n",
    "            nn.ConvTranspose2d(16,8,4,2,1),\r\n",
    "            nn.BatchNorm2d(8),\r\n",
    "            nn.LeakyReLU(),\r\n",
    "            nn.ConvTranspose2d(8,3,4,2,1),\r\n",
    "            nn.BatchNorm2d(3),\r\n",
    "            nn.Sigmoid(),\r\n",
    "        )\r\n",
    "    \r\n",
    "    def forward(self, value):\r\n",
    "        value = self.form(value)\r\n",
    "        value = value.view(-1,1024,4,4)\r\n",
    "        return self.seq(value)"
   ],
   "outputs": [],
   "metadata": {}
  },
  {
   "cell_type": "code",
   "execution_count": null,
   "source": [
    "model = Generator()\r\n",
    "\r\n",
    "PATH = './model/Gnet.pth'\r\n",
    "\r\n",
    "noise = torch.randn(1,100, device=\"cuda\")\r\n",
    "model = model = torch.load(PATH, map_location=torch.device('cuda'))\r\n",
    "out = model(noise)\r\n",
    "print(out.shape)\r\n",
    "\r\n",
    "plt.imshow(out.view(3,1024,1024).permute(1,2,0).cpu().detach().numpy())\r\n",
    "plt.show()"
   ],
   "outputs": [],
   "metadata": {}
  }
 ],
 "metadata": {
  "orig_nbformat": 4,
  "language_info": {
   "name": "python"
  }
 },
 "nbformat": 4,
 "nbformat_minor": 2
}